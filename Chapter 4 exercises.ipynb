{
 "cells": [
  {
   "cell_type": "markdown",
   "metadata": {},
   "source": [
    "# CHAPTER 4:\n",
    "\n",
    "# completed by Farzan ul haq(19B-125-SE)"
   ]
  },
  {
   "cell_type": "code",
   "execution_count": 4,
   "metadata": {},
   "outputs": [
    {
     "name": "stdout",
     "output_type": "stream",
     "text": [
      "234\n",
      "78\n",
      "01234567\n",
      "0123\n",
      "789\n"
     ]
    }
   ],
   "source": [
    "#problem 4.1\n",
    "s=\"0123456789\"\n",
    "print(s[2:5])\n",
    "print(s[7:9])\n",
    "print(s[:8])\n",
    "print(s[:4])\n",
    "print(s[-3:])"
   ]
  },
  {
   "cell_type": "code",
   "execution_count": 2,
   "metadata": {},
   "outputs": [
    {
     "name": "stdout",
     "output_type": "stream",
     "text": [
      "2\n",
      "13\n",
      "it will be a cloudy day today\n"
     ]
    }
   ],
   "source": [
    "#problem 4.2\n",
    "forecast='it will be a sunny day today'\n",
    "count=forecast.count('day')\n",
    "weather=forecast.find('sunny')\n",
    "change=forecast.replace('sunny','cloudy')\n",
    "print(count,weather,change, sep='\\n')"
   ]
  },
  {
   "cell_type": "code",
   "execution_count": 3,
   "metadata": {},
   "outputs": [
    {
     "name": "stdout",
     "output_type": "stream",
     "text": [
      "smith\tjohn\tpaul\n"
     ]
    }
   ],
   "source": [
    "#problem 4.3\n",
    "last='smith'\n",
    "first='john'\n",
    "middle='paul'\n",
    "print(last,first,middle, sep=\"\\t\")"
   ]
  },
  {
   "cell_type": "code",
   "execution_count": 8,
   "metadata": {},
   "outputs": [
    {
     "name": "stdout",
     "output_type": "stream",
     "text": [
      "2, 3, 4, 6, 8, 9, 10, 12, 14, 15, 16, "
     ]
    }
   ],
   "source": [
    "#problem 4.4\n",
    "def even(n):\n",
    "    for i in range(2,n+1):\n",
    "        if (i%2==0 or i%3==0):\n",
    "            print(i,end=', ')\n",
    "even(17)"
   ]
  },
  {
   "cell_type": "code",
   "execution_count": 17,
   "metadata": {},
   "outputs": [
    {
     "name": "stdout",
     "output_type": "stream",
     "text": [
      "john doe\n",
      "123 main street\n",
      "anycity, as 09876\n"
     ]
    }
   ],
   "source": [
    "#problem 4.5\n",
    "first,last,street,number,city,state,zipcode='john','doe','main street',123,'anycity','as','09876'\n",
    "print('{} {}\\n{} {}\\n{}, {} {}'.format(first,last,number,street,city,state,zipcode))"
   ]
  },
  {
   "cell_type": "code",
   "execution_count": 22,
   "metadata": {},
   "outputs": [
    {
     "name": "stdout",
     "output_type": "stream",
     "text": [
      "Last      First     Class     average grade\n",
      "demoines  jim       sophomore       3.45\n",
      "pierre    sophie    sophomore       4.00\n",
      "columbus  maria     junior          2.50\n",
      "pheonix   river     junior          3.99\n",
      "olympis   edgar     senior          2.45\n"
     ]
    }
   ],
   "source": [
    "#problem 4.6\n",
    "def roster(students):\n",
    "    students=[]\n",
    "    students.append(['demoines','jim','sophomore',3.45])\n",
    "    students.append(['pierre','sophie','sophomore',4.0])\n",
    "    students.append(['columbus','maria','junior',2.5])\n",
    "    students.append(['pheonix','river','junior',3.99])\n",
    "    students.append(['olympis','edgar','senior',2.45])\n",
    "    print('{:10}{:10}{:10}{:10}'.format('Last','First','Class','average grade'))\n",
    "    for i in students:\n",
    "        print('{:10}{:10}{:10}{:10.2f}'.format(i[0],i[1],i[2],i[3]))\n",
    "roster('students')"
   ]
  },
  {
   "cell_type": "code",
   "execution_count": 36,
   "metadata": {},
   "outputs": [
    {
     "name": "stdout",
     "output_type": "stream",
     "text": [
      "Thursday, December 05 2019\n",
      "18:28 PM Central Daylight Time on 12/05/19\n",
      "i will meet you on Thu December 05 at 06:28 PM\n"
     ]
    }
   ],
   "source": [
    "#problem 4.7\n",
    "from time import strftime\n",
    "print(strftime('%A, %B %d %Y'))\n",
    "print(strftime(\"%H:%M %p Central Daylight Time on %D\"))\n",
    "print(strftime('i will meet you on %a %B %d at %I:%M %p'))"
   ]
  },
  {
   "cell_type": "code",
   "execution_count": 2,
   "metadata": {},
   "outputs": [
    {
     "data": {
      "text/plain": [
       "2"
      ]
     },
     "execution_count": 2,
     "metadata": {},
     "output_type": "execute_result"
    }
   ],
   "source": [
    "#problem 4.8\n",
    "def stringcount(filename,target):\n",
    "    infile=open(filename,'r')\n",
    "    content=infile.read()\n",
    "    infile.close()\n",
    "    content=content.split()\n",
    "    count=content.count(target)\n",
    "    return count\n",
    "stringcount('hi.txt','my')"
   ]
  },
  {
   "cell_type": "code",
   "execution_count": 6,
   "metadata": {},
   "outputs": [
    {
     "name": "stdout",
     "output_type": "stream",
     "text": [
      "['my', 'name', 'is', 'farzan', 'i', 'my', 'a', 'noob', 'and', 'i', 'dont', 'know', 'how', 'to', 'play', 'games']\n"
     ]
    }
   ],
   "source": [
    "#Problem 4.9\n",
    "def word(filename):\n",
    "    infile=open(filename,'r')\n",
    "    content=infile.read()\n",
    "    infile.close()\n",
    "    table=str.maketrans('!,.::?','      ')\n",
    "    content=content.translate(table)\n",
    "    content=content.split()\n",
    "    print(content)\n",
    "word('hi.txt')"
   ]
  },
  {
   "cell_type": "code",
   "execution_count": 13,
   "metadata": {},
   "outputs": [
    {
     "name": "stdout",
     "output_type": "stream",
     "text": [
      "and i dont know how to play games.\n",
      "\n"
     ]
    }
   ],
   "source": [
    "#problem 4.10\n",
    "def mygrep(filename,target):\n",
    "    infile=open(filename)\n",
    "    for i in infile:\n",
    "        if target in i:\n",
    "            print(i)\n",
    "mygrep('hi.txt','and')"
   ]
  },
  {
   "cell_type": "code",
   "execution_count": 2,
   "metadata": {},
   "outputs": [],
   "source": [
    "#problem 4.11\n",
    "#(a)the left and right parantheses does not match.just need to do is to put\"()\"and\"[]\" brackets on both side.\n",
    "#(b)the semi colun is missing from the statement.\n",
    "#(c)print is applied when parantheses is added.have to add parantheses after print command\n",
    "#(d)the objects in list are seperated by commas.\n",
    "#(e)indentation error.the statement in the body must be indented"
   ]
  },
  {
   "cell_type": "code",
   "execution_count": 10,
   "metadata": {},
   "outputs": [
    {
     "name": "stdout",
     "output_type": "stream",
     "text": [
      "bcd\n",
      "abc\n",
      "defghijklmnopqrstuvwx\n",
      "wxy\n",
      "wxyz\n"
     ]
    }
   ],
   "source": [
    "#problem 4.12\n",
    "s='abcdefghijklmnopqrstuvwxyz'\n",
    "print('{}\\n{}\\n{}\\n{}\\n{}'.format(s[1:4],s[:3],s[3:24],s[22:25],s[22:]))"
   ]
  },
  {
   "cell_type": "code",
   "execution_count": 12,
   "metadata": {},
   "outputs": [
    {
     "name": "stdout",
     "output_type": "stream",
     "text": [
      "bc\n",
      "abcdefghijklm\n",
      "nopqrstuvwxyz\n",
      "bcdefghijklmnopqrstuvw\n"
     ]
    }
   ],
   "source": [
    "#problem 4.13\n",
    "s='abcdefghijklmnopqrstuvwxyz'\n",
    "print('{}\\n{}\\n{}\\n{}'.format(s[1:3],s[:13],s[13:],s[1:23]))"
   ]
  },
  {
   "cell_type": "code",
   "execution_count": 24,
   "metadata": {},
   "outputs": [
    {
     "name": "stdout",
     "output_type": "stream",
     "text": [
      "128.0.0.1\n",
      "['[12/feb/2011:10:31:08', '-0600]']\n"
     ]
    }
   ],
   "source": [
    "#problem 4.14\n",
    "log='128.0.0.1 - - [12/feb/2011:10:31:08 -0600] \"GET/docs/text.txt HTTP/1.0\"'\n",
    "address=log.split()[0]\n",
    "date=log.split()[3:5]\n",
    "print('{}\\n{}'.format(address,date))"
   ]
  },
  {
   "cell_type": "code",
   "execution_count": 35,
   "metadata": {},
   "outputs": [
    {
     "name": "stdout",
     "output_type": "stream",
     "text": [
      "['10', '20', '30', '40', '50', '60']\n",
      "['10', '20', '30', '40', '50', '60']\n",
      "['10', '20', '30', '40', '50', '60']\n",
      "['10', '20', '30', '40', '50', '60']\n"
     ]
    }
   ],
   "source": [
    "#problem 4.15\n",
    "s='10 20 30 40 50 60'\n",
    "a=s.split()\n",
    "s='10,20,30,40,50,60'\n",
    "b=s.split(sep=\",\")\n",
    "s='10&20&30&40&50&60'\n",
    "c=s.split(sep=\"&\")\n",
    "s='10 - 20 - 30 - 40 - 50 - 60'\n",
    "d=s.split(sep=\" - \")\n",
    "print('{}\\n{}\\n{}\\n{}'.format(a,b,c,d))"
   ]
  },
  {
   "cell_type": "code",
   "execution_count": 39,
   "metadata": {},
   "outputs": [
    {
     "name": "stdout",
     "output_type": "stream",
     "text": [
      "enter first word: farzan\n",
      "enter second word: ul\n",
      "enter third word: xyz\n",
      "True\n"
     ]
    }
   ],
   "source": [
    "#problem 4.16\n",
    "first=str(input(\"enter first word: \"))\n",
    "second=str(input(\"enter second word: \"))\n",
    "third=str(input(\"enter third word: \"))\n",
    "if first<second and second<third:\n",
    "    print('True')\n",
    "else:\n",
    "    print('False')"
   ]
  },
  {
   "cell_type": "code",
   "execution_count": 1,
   "metadata": {},
   "outputs": [
    {
     "name": "stdout",
     "output_type": "stream",
     "text": [
      "47\n",
      "2\n",
      "the xxxxxx of this message is that it is xxxxxx\n"
     ]
    }
   ],
   "source": [
    "#problem 4.17\n",
    "message='the secret of this message is that it is secret'\n",
    "length=len(message)\n",
    "count=message.count('secret')\n",
    "copy=message.replace('secret','xxxxxx')\n",
    "print('{}\\n{}\\n{}'.format(length,count,copy))"
   ]
  },
  {
   "cell_type": "code",
   "execution_count": 9,
   "metadata": {},
   "outputs": [
    {
     "name": "stdout",
     "output_type": "stream",
     "text": [
      "it was the best of times  it was he worst of times  it was the age of wisdom  it was the age of foolishness  it was the epoch of belief  it was the epoch of incredulity  it was    \n",
      "it was the best of times  it was he worst of times  it was the age of wisdom  it was the age of foolishness  it was the epoch of belief  it was the epoch of incredulity  it was    \n",
      "7\n",
      "it was the best of times  it was he worst of times  it was the age of wisdom  it was the age of foolishness  it was the epoch of belief  it was the epoch of incredulity  it was    \n",
      "['it', 'was', 'the', 'best', 'of', 'times', 'it', 'was', 'he', 'worst', 'of', 'times', 'it', 'was', 'the', 'age', 'of', 'wisdom', 'it', 'was', 'the', 'age', 'of', 'foolishness', 'it', 'was', 'the', 'epoch', 'of', 'belief', 'it', 'was', 'the', 'epoch', 'of', 'incredulity', 'it', 'was']\n"
     ]
    }
   ],
   "source": [
    "#problem 4.18\n",
    "s='''it was the best of times, it was he worst of times; it was the age of wisdom, it was the age of foolishness; it was the epoch of belief, it was the epoch of incredulity; it was ...'''\n",
    "table=str.maketrans(',;.\\n','    ')\n",
    "news=s.translate(table)\n",
    "print(news)\n",
    "news=news.lower()\n",
    "print(news)\n",
    "count=s.count('it was')\n",
    "print(count)\n",
    "x=news.replace('was to',' ')\n",
    "print(x)\n",
    "y=news.split()\n",
    "print(y)"
   ]
  },
  {
   "cell_type": "code",
   "execution_count": 12,
   "metadata": {},
   "outputs": [
    {
     "name": "stdout",
     "output_type": "stream",
     "text": [
      "sigel, marlena mae\n",
      "sigel, marlena m\n",
      "marlena m. sigel\n",
      "m. m. sigel\n",
      "sigel, m. \n"
     ]
    }
   ],
   "source": [
    "#problem 4.19\n",
    "first='marlena'\n",
    "last='sigel'\n",
    "middle='mae'\n",
    "print('{}, {} {}'.format(last,first,middle))\n",
    "print('{}, {} {}'.format(last,first,middle[0]))\n",
    "print('{} {}. {}'.format(first,middle[0],last))\n",
    "print('{}. {}. {}'.format(middle[0],middle[0],last))\n",
    "print('{}, {}. '.format(last,middle[0]))"
   ]
  },
  {
   "cell_type": "code",
   "execution_count": 13,
   "metadata": {},
   "outputs": [
    {
     "name": "stdout",
     "output_type": "stream",
     "text": [
      "From: tim@abc.com\n",
      "To: tom@xyz.com\n",
      "subject: hello!\n"
     ]
    }
   ],
   "source": [
    "#problem 4.20\n",
    "sender=' tim@abc.com'\n",
    "recipient=' tom@xyz.com'\n",
    "subject=' hello!'\n",
    "print('From:{}\\nTo:{}\\nsubject:{}'.format(sender,recipient,subject))"
   ]
  },
  {
   "cell_type": "code",
   "execution_count": 15,
   "metadata": {},
   "outputs": [
    {
     "name": "stdout",
     "output_type": "stream",
     "text": [
      "pi=3.1, e=3.1\n",
      "pi=3.14, e=3.14\n",
      "pi=3.141593e+00, e=3.141593e+00\n",
      "pi=3.14159, e=3.14159\n"
     ]
    }
   ],
   "source": [
    "#problem 4.21\n",
    "import math\n",
    "pi=math.pi\n",
    "e=math.e\n",
    "print('pi={0:2.1f}, e={0:2.1f}'.format(pi,e))\n",
    "print('pi={0:2.2f}, e={0:2.2f}'.format(pi,e))\n",
    "print('pi={0:e}, e={0:e}'.format(pi,e))\n",
    "print('pi={0:2.5f}, e={0:2.5f}'.format(pi,e))"
   ]
  },
  {
   "cell_type": "code",
   "execution_count": 18,
   "metadata": {},
   "outputs": [
    {
     "data": {
      "text/plain": [
       "'dec'"
      ]
     },
     "execution_count": 18,
     "metadata": {},
     "output_type": "execute_result"
    }
   ],
   "source": [
    "#problem 4.22\n",
    "def month(n):\n",
    "    x='jan fab mar apr may jun jul aug sep oct nov dec'\n",
    "    x=x.split()\n",
    "    return x[n-1]\n",
    "month(12)"
   ]
  },
  {
   "cell_type": "code",
   "execution_count": 24,
   "metadata": {},
   "outputs": [
    {
     "name": "stdout",
     "output_type": "stream",
     "text": [
      "enter a sentence:i love you\n",
      "3.3333333333333335\n"
     ]
    }
   ],
   "source": [
    "#problem 4.23\n",
    "def average():\n",
    "    x=input(\"enter a sentence:\")\n",
    "    y=x.split()\n",
    "    print(len(x)/len(y))\n",
    "average()"
   ]
  },
  {
   "cell_type": "code",
   "execution_count": 26,
   "metadata": {},
   "outputs": [
    {
     "name": "stdout",
     "output_type": "stream",
     "text": [
      "How do u spell winner?\n",
      "I know, I know!\n",
      "H u s k i e s !\n",
      "and thats how u spell winner!\n",
      "Go  Huskies\n"
     ]
    }
   ],
   "source": [
    "#problem 4.24\n",
    "def cheer(string):\n",
    "    print('How do u spell winner?')\n",
    "    print('I know, I know!')\n",
    "    for i in string:\n",
    "        print(i, end=\" \")\n",
    "    print('!')\n",
    "    print('and thats how u spell winner!')\n",
    "    print('Go ',string)\n",
    "cheer('Huskies')   "
   ]
  },
  {
   "cell_type": "code",
   "execution_count": 34,
   "metadata": {},
   "outputs": [
    {
     "name": "stdout",
     "output_type": "stream",
     "text": [
      "a,e,i,o and u appear, respectively,1, 3, 0, 1, 1\n"
     ]
    }
   ],
   "source": [
    "#problem 4.25\n",
    "def vowelcount(string):\n",
    "    a,e,i,o,u=0,0,0,0,0\n",
    "    for j in string:\n",
    "        if j in 'aA':\n",
    "            a+=1\n",
    "        elif j in 'eE':\n",
    "            e+=1\n",
    "        elif j in 'iI':\n",
    "            i+=1\n",
    "        elif j in 'oO':\n",
    "            o+=1\n",
    "        elif j in 'uU':\n",
    "            u+=1\n",
    "    print('a,e,i,o and u appear, respectively,{}, {}, {}, {}, {}'.format(a,e,i,o,u))\n",
    "vowelcount('le tour de france')\n",
    "        "
   ]
  },
  {
   "cell_type": "code",
   "execution_count": 37,
   "metadata": {},
   "outputs": [
    {
     "name": "stdout",
     "output_type": "stream",
     "text": [
      "i will tell you my xxxxxx. but first,i have to explain why it is a xxxxxx.\n",
      "and that is all i will tell you about my xxxxxx.\n"
     ]
    }
   ],
   "source": [
    "#problem 4.26\n",
    "def crypto(filename):\n",
    "    infile=open(filename,'r')\n",
    "    content=infile.read()\n",
    "    infile.close()\n",
    "    content=content.replace('secret','xxxxxx')\n",
    "    print(content)\n",
    "crypto('hi1.txt')"
   ]
  },
  {
   "cell_type": "code",
   "execution_count": 39,
   "metadata": {},
   "outputs": [],
   "source": [
    "#problem 4.27\n",
    "def copy(file1,file2):\n",
    "    infile=open(file1,'r')\n",
    "    content=infile.read()\n",
    "    infile.close()\n",
    "    outfile=open(file2,'w')\n",
    "    cont=outfile.write(content)\n",
    "    outfile.close()\n",
    "copy('hi.txt','hi2.txt')\n",
    "    "
   ]
  },
  {
   "cell_type": "code",
   "execution_count": 41,
   "metadata": {},
   "outputs": [
    {
     "data": {
      "text/plain": [
       "4"
      ]
     },
     "execution_count": 41,
     "metadata": {},
     "output_type": "execute_result"
    }
   ],
   "source": [
    "#problem 4.28\n",
    "def links(filename,x):\n",
    "    infile=open(filename,'r')\n",
    "    content=infile.read()\n",
    "    infile.close()\n",
    "    return content.count(x)\n",
    "links('links.txt','fortnite8256@gmail.com')    "
   ]
  },
  {
   "cell_type": "code",
   "execution_count": 44,
   "metadata": {},
   "outputs": [
    {
     "name": "stdout",
     "output_type": "stream",
     "text": [
      "lines are= 5\n",
      "words are= 16\n",
      "characters are= 68\n"
     ]
    }
   ],
   "source": [
    "#problem 4.29\n",
    "def stats(filename):\n",
    "    infile=open(filename,'r')\n",
    "    content=infile.read()\n",
    "    infile.close()\n",
    "    char=len(content)\n",
    "    words=len(content.split())\n",
    "    lines=content.count('\\n')\n",
    "    lines=lines+1\n",
    "    print('lines are= {}\\nwords are= {}\\ncharacters are= {}'.format(lines,words,char))\n",
    "stats('hi.txt')\n",
    "    "
   ]
  },
  {
   "cell_type": "code",
   "execution_count": 45,
   "metadata": {},
   "outputs": [
    {
     "name": "stdout",
     "output_type": "stream",
     "text": [
      "10 got A+\n",
      "7  got A\n",
      "4  got B\n",
      "4  got c\n",
      "2  got D\n",
      "0  got F\n"
     ]
    }
   ],
   "source": [
    "#problem 4.30\n",
    "def grades(filename):\n",
    "    infile=open(filename,'r')\n",
    "    content=infile.read()\n",
    "    infile.close()\n",
    "    print(content.count(\"A+\"),\"got A+\")\n",
    "    print(content.count(\"A \"),\" got A\")\n",
    "    print(content.count(\"B\"),\" got B\")\n",
    "    print(content.count(\"C\"),\" got c\")\n",
    "    print(content.count(\"D\"),\" got D\")\n",
    "    print(content.count(\"F\"),\" got F\")\n",
    "grades('1.txt')\n",
    "    "
   ]
  },
  {
   "cell_type": "code",
   "execution_count": 52,
   "metadata": {},
   "outputs": [
    {
     "data": {
      "text/plain": [
       "True"
      ]
     },
     "execution_count": 52,
     "metadata": {},
     "output_type": "execute_result"
    }
   ],
   "source": [
    "#problem 4.31\n",
    "def duplicate(filename):\n",
    "    infile=open(filename,'r')\n",
    "    content=infile.read()\n",
    "    infile.close()\n",
    "    words=content.split()\n",
    "    wordset=set(words)\n",
    "    if len(wordset)==len(words):\n",
    "        return False\n",
    "    else:\n",
    "        return True\n",
    "            \n",
    "\n",
    "    \n",
    "duplicate('hi.txt')    "
   ]
  },
  {
   "cell_type": "code",
   "execution_count": 16,
   "metadata": {},
   "outputs": [
    {
     "data": {
      "text/plain": [
       "'Done.'"
      ]
     },
     "execution_count": 16,
     "metadata": {},
     "output_type": "execute_result"
    }
   ],
   "source": [
    "#problem 4.32\n",
    "def censer(file,file2):\n",
    "    infile=open(file,'r')\n",
    "    content=infile.read()\n",
    "    infile.close()\n",
    "    table=str.maketrans(',.?!','    ')\n",
    "    t=content.translate(table)\n",
    "    textlst=t.split()\n",
    "    for word in textlst:\n",
    "        if (len(word)==4):\n",
    "            content=content.replace(word,'xxxx')\n",
    "    outfile=open(file2,'w')\n",
    "    outfile.write(str(content))\n",
    "    outfile.close()\n",
    "    return 'Done.'\n",
    "censer('hi.txt','hi3.txt')\n",
    "            "
   ]
  },
  {
   "cell_type": "code",
   "execution_count": 10,
   "metadata": {},
   "outputs": [],
   "source": [
    "def duplicate(file):\n",
    "    infile=open(file)\n",
    "    text=infile.read()\n",
    "    infile.close()\n",
    "    table=str.maketrans(',.?!','    ')\n",
    "    text2=text.translate(table)\n",
    "    words=text2.split()\n",
    "    for word in words:\n",
    "        if (len(word)==4):\n",
    "            text=text.replace(word,'xxxx')\n",
    "    outfile=open('hi3.txt','w')\n",
    "    outfile.write(str(text))\n",
    "    outfile.close()\n",
    "duplicate('hi.txt')"
   ]
  },
  {
   "cell_type": "code",
   "execution_count": null,
   "metadata": {},
   "outputs": [],
   "source": []
  }
 ],
 "metadata": {
  "kernelspec": {
   "display_name": "Python 3",
   "language": "python",
   "name": "python3"
  },
  "language_info": {
   "codemirror_mode": {
    "name": "ipython",
    "version": 3
   },
   "file_extension": ".py",
   "mimetype": "text/x-python",
   "name": "python",
   "nbconvert_exporter": "python",
   "pygments_lexer": "ipython3",
   "version": "3.7.3"
  }
 },
 "nbformat": 4,
 "nbformat_minor": 2
}
